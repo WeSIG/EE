{
 "cells": [
  {
   "cell_type": "code",
   "execution_count": 1,
   "metadata": {},
   "outputs": [
    {
     "name": "stdout",
     "output_type": "stream",
     "text": [
      "$CLASSPATH:/home/linbo/workspace/Datasets/Standford-coreNLP/stanford-segmenter-2018-10-16/stanford-segmenter.jar:/home/linbo/workspace/Datasets/Standford-coreNLP/stanford-postagger-full-2018-10-16/stanford-postagger.jar:/home/linbo/workspace/Datasets/Standford-coreNLP/stanford-ner-2018-10-16/stanford-ner.jar:/home/linbo/workspace/Datasets/Standford-coreNLP/stanford-parser-full-2018-10-17/stanford-parser.jar:/home/linbo/workspace/Datasets/Standford-coreNLP/stanford-parser-full-2018-10-17/stanford-parser-3.9.2-models.jar:/home/linbo/workspace/Datasets/Standford-coreNLP/stanford-corenlp-full-2018-10-05/stanford-corenlp-3.9.2.jar::/home/linbo/workspace/Datasets/Standford-coreNLP/stanford-english-corenlp-2018-10-05-models.jar:/home/linbo/workspace/Datasets/Standford-coreNLP/stanford-corenlp-full-2018-10-05/slf4j-api.jar\n"
     ]
    }
   ],
   "source": [
    "import os\n",
    "\n",
    "CLASSPATH = \"$CLASSPATH:\"\n",
    "path_standford = '/home/linbo/workspace/Datasets/Standford-coreNLP/'\n",
    "path_segmenter = path_standford + 'stanford-segmenter-2018-10-16/stanford-segmenter.jar'\n",
    "CLASSPATH = CLASSPATH + path_segmenter\n",
    "\n",
    "path_postagger = path_standford + 'stanford-postagger-full-2018-10-16/stanford-postagger.jar'\n",
    "CLASSPATH = CLASSPATH + ':' + path_postagger\n",
    "\n",
    "path_ner = path_standford + 'stanford-ner-2018-10-16/stanford-ner.jar'\n",
    "CLASSPATH = CLASSPATH + ':' + path_ner\n",
    "\n",
    "path_parser = path_standford + 'stanford-parser-full-2018-10-17/stanford-parser.jar'\n",
    "CLASSPATH = CLASSPATH + ':' + path_parser\n",
    "\n",
    "path_parser_model = path_standford + 'stanford-parser-full-2018-10-17/stanford-parser-3.9.2-models.jar'\n",
    "CLASSPATH = CLASSPATH + ':' + path_parser_model\n",
    "\n",
    "path_corenlp = path_standford + 'stanford-corenlp-full-2018-10-05/stanford-corenlp-3.9.2.jar:' \n",
    "CLASSPATH = CLASSPATH + ':' + path_corenlp\n",
    "\n",
    "path_model = path_standford + 'stanford-english-corenlp-2018-10-05-models.jar'\n",
    "#path_model = path_standford + 'stanford-corenlp-full-2018-10-05/stanford-corenlp-3.9.2-models.jar'\n",
    "CLASSPATH = CLASSPATH + ':' + path_model\n",
    "\n",
    "path_api = path_standford + 'stanford-corenlp-full-2018-10-05/slf4j-api.jar'\n",
    "CLASSPATH = CLASSPATH + ':' + path_api\n",
    "\n",
    "print(CLASSPATH)\n",
    "\n",
    "os.environ[\"CLASSPATH\"] = CLASSPATH\n",
    "os.environ['STANFORD_PARSER'] = path_corenlp\n",
    "os.environ['STANFORD_MODELS'] = path_model"
   ]
  },
  {
   "cell_type": "code",
   "execution_count": null,
   "metadata": {},
   "outputs": [],
   "source": []
  },
  {
   "cell_type": "code",
   "execution_count": 2,
   "metadata": {},
   "outputs": [
    {
     "name": "stderr",
     "output_type": "stream",
     "text": [
      "/home/linbo/anaconda3/envs/nlu/lib/python3.6/site-packages/ipykernel_launcher.py:25: DeprecationWarning: The StanfordParser will be deprecated\n",
      "Please use \u001b[91mnltk.parse.corenlp.CoreNLPParser\u001b[0m instead.\n"
     ]
    },
    {
     "name": "stdout",
     "output_type": "stream",
     "text": [
      "the quick brown fox jumps over the \" lazy \" dog .\n",
      "[Found java: /usr/bin/java]\n",
      "(ROOT\n",
      "  (S\n",
      "    (NP (DT the) (JJ quick) (JJ brown) (NN fox))\n",
      "    (VP\n",
      "      (VBZ jumps)\n",
      "      (NP\n",
      "        (NP (RB over) (DT the))\n",
      "        ('' '')\n",
      "        (VP (VBN lazy) ('' '') (NP (NN dog)))))\n",
      "    (. .)))\n",
      "[Found java: /usr/bin/java]\n",
      "{'the': 'DT', 'quick': 'JJ', 'brown': 'JJ', 'fox': 'NN', 'jumps': 'VBZ', 'over': 'RB', \"''\": \"''\", 'lazy': 'VBN', 'dog': 'NN', '.': '.'}\n",
      "[Found java: /usr/bin/java]\n",
      "{'the': 0.2111111111111111, 'quick': 0.3111111111111111, 'brown': 0.3111111111111111, 'fox': 0.4222222222222222, 'jumps': 0.8666666666666667, 'over': 0.6111111111111112, \"''\": 0.011111111111111112, 'lazy': 0.8444444444444444, 'dog': 0.4222222222222222, '.': 0.022222222222222223}\n"
     ]
    }
   ],
   "source": [
    "from collections import OrderedDict\n",
    "from nltk.tree import Tree\n",
    "from nltk.parse.stanford import StanfordParser\n",
    "\n",
    "class MyParser(StanfordParser):\n",
    "    def raw_parse_sents(self, sentences, verbose=False):\n",
    "        \"\"\"\n",
    "        Use StanfordParser to parse multiple sentences. Takes multiple sentences as a\n",
    "        list of strings.\n",
    "        Each sentence will be automatically tokenized and tagged by the Stanford Parser.\n",
    "        The output format is `penn`.\n",
    "\n",
    "        :param sentences: Input sentences to parse\n",
    "        :type sentences: list(str)\n",
    "        :rtype: iter(iter(Tree))\n",
    "        \"\"\"\n",
    "        cmd = [\n",
    "            self._MAIN_CLASS,\n",
    "            '-model', self.model_path,\n",
    "            '-outputFormat', 'penn', # conll, conll2007, penn\n",
    "            '-sentences', 'newline'\n",
    "        ]\n",
    "        return self._parse_trees_output(self._execute(cmd, '\\n'.join(sentences), True ))\n",
    "myparser = MyParser(model_path = path_standford + 'stanford-english-corenlp-2018-10-05-models/' \n",
    "                    + \"edu/stanford/nlp/models/lexparser/englishPCFG.ser.gz\")\n",
    "\n",
    "def load_tags(file_tags):\n",
    "    tags = OrderedDict()\n",
    "    with open(file_tags, encoding='utf-8') as ft:\n",
    "        for line in ft.readlines():\n",
    "            line = line.strip()\n",
    "            tags[line] = len(tags)\n",
    "    # scaled\n",
    "    for tag in tags:\n",
    "        tags[tag] = tags[tag]/len(tags)\n",
    "    return tags\n",
    "\n",
    "def get_PCFG(sent):\n",
    "    sent = [sent] # one sentence\n",
    "    res = list(myparser.raw_parse_sents(sent))\n",
    "    return res[0]\n",
    "\n",
    "def get_tag_PCFG(sent):\n",
    "    sent = [sent] # one sentence\n",
    "    res = list(myparser.raw_parse_sents(sent))\n",
    "    for row in res[0]:\n",
    "        for t in row: \n",
    "            x = {s[0]:s.label() for s in t.subtrees(lambda t: t.height() == 2)}\n",
    "            return x\n",
    "\n",
    "def get_tagIndexed_PCFG(sent, tags):\n",
    "    sent = [sent] # one sentence\n",
    "    res = list(myparser.raw_parse_sents(sent))\n",
    "    for row in res[0]:\n",
    "        for t in row: \n",
    "            x = {s[0]:tags[s.label()] for s in t.subtrees(lambda t: t.height() == 2)}\n",
    "            return x\n",
    "\n",
    "## load tags used in standforad parser\n",
    "tags = load_tags('tags.csv')\n",
    "\n",
    "sent = \"the quick brown fox jumps over the \\\" lazy \\\" dog .\"\n",
    "print(sent)\n",
    "r = get_PCFG(sent)\n",
    "for t in r:print(t)\n",
    "r = get_tag_PCFG(sent)\n",
    "print(r)\n",
    "r = get_tagIndexed_PCFG(sent, tags)\n",
    "print(r)"
   ]
  },
  {
   "cell_type": "code",
   "execution_count": null,
   "metadata": {},
   "outputs": [],
   "source": []
  }
 ],
 "metadata": {
  "kernelspec": {
   "display_name": "Python 3",
   "language": "python",
   "name": "python3"
  },
  "language_info": {
   "codemirror_mode": {
    "name": "ipython",
    "version": 3
   },
   "file_extension": ".py",
   "mimetype": "text/x-python",
   "name": "python",
   "nbconvert_exporter": "python",
   "pygments_lexer": "ipython3",
   "version": "3.6.7"
  }
 },
 "nbformat": 4,
 "nbformat_minor": 2
}
